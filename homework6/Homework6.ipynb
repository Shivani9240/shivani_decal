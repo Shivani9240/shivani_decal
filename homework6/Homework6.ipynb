{
 "cells": [
  {
   "cell_type": "code",
   "execution_count": 81,
   "id": "32941f72-b9a2-4fc5-b091-ea1d1c32f140",
   "metadata": {},
   "outputs": [
    {
     "name": "stdout",
     "output_type": "stream",
     "text": [
      "[[2, 3, 5], [11, 13, 17], [7, 10, 13]]\n"
     ]
    }
   ],
   "source": [
    "#1 Prime Clusters\n",
    "# You have obtained a dataset of star temperatures from different stellar clusters.\n",
    "# For your research, you are interested only in clusters where at least one star’s\n",
    "# temperature is a prime number. Given a 2D NumPy array, write a function to\n",
    "# find the rows where at least one value is a prime number. For example:\n",
    "\n",
    "import math\n",
    "import numpy as np\n",
    "arr = [[2, 3, 5], [4, 6, 8], [11, 13, 17], [7, 10, 13]]   \n",
    "arr2 = []\n",
    "def containsPrimes(arr):\n",
    "    def isPrime(n):\n",
    "        if n <= 1:\n",
    "            return False\n",
    "        else:\n",
    "            for i in range(2, int(math.sqrt(n)) + 1):\n",
    "                if n % i == 0:\n",
    "                    return False\n",
    "            return True\n",
    "    for row in arr:\n",
    "        for element in row:\n",
    "            if isPrime(element):\n",
    "                arr2.append(row)\n",
    "                break\n",
    "\n",
    "containsPrimes(arr)\n",
    "print(arr2)"
   ]
  },
  {
   "cell_type": "code",
   "execution_count": 91,
   "id": "4dafb229-63e8-4905-8e33-f57a34952784",
   "metadata": {},
   "outputs": [
    {
     "name": "stdout",
     "output_type": "stream",
     "text": [
      "[[0 0 0 0 0 0 0 0]\n",
      " [0 0 0 0 0 0 0 0]\n",
      " [0 0 0 0 0 0 0 0]\n",
      " [0 0 0 0 0 0 0 0]\n",
      " [0 0 0 0 0 0 0 0]\n",
      " [0 0 0 0 0 0 0 0]\n",
      " [0 0 0 0 0 0 0 0]\n",
      " [0 0 0 0 0 0 0 0]]\n"
     ]
    }
   ],
   "source": [
    "# 2 Let’s play Checkers!\n",
    "# You’ve decided to take a break from your cutting-edge research and play checkers\n",
    "# with your friend. Unfortunately, there is no checkerboard in sight! Therefore\n",
    "# you must create one yourself.\n",
    "# 2.1\n",
    "# Start by writing a function that creates a 8x8 square matrix with only zeros.\n",
    "\n",
    "import numpy as np\n",
    "\n",
    "def checkerboard():\n",
    "    return np.zeros((8,8), dtype = int)\n",
    "\n",
    "print(checkerboard())"
   ]
  },
  {
   "cell_type": "code",
   "execution_count": 111,
   "id": "24440f86-d396-4749-8b55-10b63f3d742b",
   "metadata": {},
   "outputs": [
    {
     "name": "stdout",
     "output_type": "stream",
     "text": [
      "[[1 0 1 0 1 0 1 0]\n",
      " [0 0 0 0 0 0 0 0]\n",
      " [1 0 1 0 1 0 1 0]\n",
      " [0 0 0 0 0 0 0 0]\n",
      " [1 0 1 0 1 0 1 0]\n",
      " [0 0 0 0 0 0 0 0]\n",
      " [1 0 1 0 1 0 1 0]\n",
      " [0 0 0 0 0 0 0 0]]\n"
     ]
    }
   ],
   "source": [
    "#2.2\n",
    "#For only the odd rows, make an alternating pattern of ones and zeroes.\n",
    "\n",
    "import numpy as np\n",
    "from itertools import cycle\n",
    "\n",
    "\n",
    "def checkerboard():\n",
    "    arr = np.zeros((8,8), dtype = int)\n",
    "    values = cycle([1,0])\n",
    "\n",
    "    for row in range(len(arr)):\n",
    "        if row % 2 == 0:\n",
    "            arr[row] = [next(values) for i in range(8)]\n",
    "    return arr\n",
    "print(checkerboard())"
   ]
  },
  {
   "cell_type": "code",
   "execution_count": 113,
   "id": "19835672-cbe3-4a4e-ac93-da91494c9e31",
   "metadata": {},
   "outputs": [
    {
     "name": "stdout",
     "output_type": "stream",
     "text": [
      "[[1 0 1 0 1 0 1 0]\n",
      " [0 1 0 1 0 1 0 1]\n",
      " [1 0 1 0 1 0 1 0]\n",
      " [0 1 0 1 0 1 0 1]\n",
      " [1 0 1 0 1 0 1 0]\n",
      " [0 1 0 1 0 1 0 1]\n",
      " [1 0 1 0 1 0 1 0]\n",
      " [0 1 0 1 0 1 0 1]]\n"
     ]
    }
   ],
   "source": [
    "#2.3\n",
    "#Finish the checkerboard with the even rows.\n",
    "\n",
    "import numpy as np\n",
    "from itertools import cycle\n",
    "\n",
    "\n",
    "def checkerboard():\n",
    "    arr = np.zeros((8,8), dtype = int)\n",
    "    values_odd = cycle([1,0])\n",
    "    values_even = cycle([0,1])\n",
    "\n",
    "    for row in range(len(arr)):\n",
    "        if row % 2 == 0:\n",
    "            arr[row] = [next(values_odd) for i in range(8)]\n",
    "        elif row % 2 != 0:\n",
    "            arr[row] = [next(values_even) for i in range(8)]\n",
    "    return arr\n",
    "print(checkerboard())"
   ]
  },
  {
   "cell_type": "code",
   "execution_count": 115,
   "id": "81842fdf-5c2b-40ea-a873-6d802f916723",
   "metadata": {},
   "outputs": [
    {
     "name": "stdout",
     "output_type": "stream",
     "text": [
      "[[0 1 0 1 0 1 0 1]\n",
      " [1 0 1 0 1 0 1 0]\n",
      " [0 1 0 1 0 1 0 1]\n",
      " [1 0 1 0 1 0 1 0]\n",
      " [0 1 0 1 0 1 0 1]\n",
      " [1 0 1 0 1 0 1 0]\n",
      " [0 1 0 1 0 1 0 1]\n",
      " [1 0 1 0 1 0 1 0]]\n"
     ]
    }
   ],
   "source": [
    "#2.4\n",
    "#Re-write your function such that the checkerboard begins with a 0 instead\n",
    "\n",
    "import numpy as np\n",
    "from itertools import cycle\n",
    "\n",
    "\n",
    "def checkerboard():\n",
    "    arr = np.zeros((8,8), dtype = int)\n",
    "    values_odd = cycle([0,1])\n",
    "    values_even = cycle([1,0])\n",
    "\n",
    "    for row in range(len(arr)):\n",
    "        if row % 2 == 0:\n",
    "            arr[row] = [next(values_odd) for i in range(8)]\n",
    "        elif row % 2 != 0:\n",
    "            arr[row] = [next(values_even) for i in range(8)]\n",
    "    return arr\n",
    "print(checkerboard())"
   ]
  },
  {
   "cell_type": "code",
   "execution_count": 187,
   "id": "99ccda9b-c16e-4562-9f44-c4940ba96179",
   "metadata": {},
   "outputs": [
    {
     "name": "stdout",
     "output_type": "stream",
     "text": [
      "[' g  a  l  a  x  y ', ' c  l  u  s  t  e  r  s ']\n"
     ]
    }
   ],
   "source": [
    "#3 The Expanding Universe\n",
    "# You have now become fascinated with how dark energy is making galaxies accelerate away from us. \n",
    "# Write a function that takes in a string and a number, and returns the string with the specified \n",
    "# number of spaces inserted between eachletter, simulating the expansion of space! For example:\n",
    "\n",
    "universe = (['galaxy', 'clusters'])\n",
    "expanded_terms = []\n",
    "\n",
    "def expansion(universe, n):\n",
    "    spacestring = \"\"\n",
    "    for i in range(0, n):\n",
    "        spacestring += \" \"\n",
    "    for term in universe:\n",
    "        expanded_terms.append(term.replace(\"\", spacestring)[1: -1])\n",
    "    return expanded_terms\n",
    "    \n",
    "print(expansion(universe, 2))"
   ]
  },
  {
   "cell_type": "code",
   "execution_count": 209,
   "id": "647cb5bf-06ba-41e4-8717-3715e945374b",
   "metadata": {},
   "outputs": [
    {
     "name": "stdout",
     "output_type": "stream",
     "text": [
      "[[1889 1906 1846 1622 1541]\n",
      " [ 606 1647 1738  596  613]\n",
      " [1138  547  573 1442  724]\n",
      " [ 611 1933 1863 1346 1777]\n",
      " [ 920 1108 1732 1592  951]]\n",
      "[611, 1108, 1732, 1346, 724]\n"
     ]
    }
   ],
   "source": [
    "#4 Second-Dimmest Star\n",
    "# While analyzing a dataset of star luminosities, you need to identify the second-dimmest star \n",
    "#in each cluster. Write a function that takes a 2D NumPy array and returns an array containing \n",
    "#only the second-smallest value in each column. For example:\n",
    "\n",
    "np.random.seed(123)\n",
    "stars = np.random.randint(500, 2000, (5, 5))\n",
    "\n",
    "def secondDimmest(stars):\n",
    "    stars_copy = stars.copy()\n",
    "    transpose = stars_copy.T\n",
    "    without_min = []\n",
    "    for row in transpose: \n",
    "        minimum = min(row)\n",
    "        without_min.append(np.delete(row, np.where(row == minimum)))\n",
    "    \n",
    "    secondDim_values = []\n",
    "    for Row in without_min:\n",
    "        secondDim_values.append(min(Row))\n",
    "    return secondDim_values\n",
    "    \n",
    "print(stars)\n",
    "print(secondDimmest(stars))"
   ]
  }
 ],
 "metadata": {
  "kernelspec": {
   "display_name": "Python [conda env:base] *",
   "language": "python",
   "name": "conda-base-py"
  },
  "language_info": {
   "codemirror_mode": {
    "name": "ipython",
    "version": 3
   },
   "file_extension": ".py",
   "mimetype": "text/x-python",
   "name": "python",
   "nbconvert_exporter": "python",
   "pygments_lexer": "ipython3",
   "version": "3.12.7"
  }
 },
 "nbformat": 4,
 "nbformat_minor": 5
}
