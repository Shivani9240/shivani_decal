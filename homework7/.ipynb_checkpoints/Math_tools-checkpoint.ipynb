{
 "cells": [
  {
   "cell_type": "code",
   "execution_count": null,
   "id": "c0c4fd8b-cd97-4d80-a28d-1e1e2444abe3",
   "metadata": {},
   "outputs": [],
   "source": [
    "# This function adds two input numbers a and b\n",
    "def add(a,b): \n",
    "    return a + b\n",
    "\n",
    "# This function subtracts two input numbers, b from a\n",
    "def subtract(a,b):\n",
    "    return a - b\n",
    "\n",
    "# This function multiplies two input numbers a and b\n",
    "def multiply(a,b):\n",
    "    return a*b\n",
    "    \n",
    "# This function divides two input numbers, a by b, as long as b is not zero\n",
    "def divide(a,b):\n",
    "    if b != 0:\n",
    "        return a/b\n",
    "    else:\n",
    "        print(\"cannot divide by zero\")"
   ]
  }
 ],
 "metadata": {
  "kernelspec": {
   "display_name": "Python [conda env:base] *",
   "language": "python",
   "name": "conda-base-py"
  },
  "language_info": {
   "codemirror_mode": {
    "name": "ipython",
    "version": 3
   },
   "file_extension": ".py",
   "mimetype": "text/x-python",
   "name": "python",
   "nbconvert_exporter": "python",
   "pygments_lexer": "ipython3",
   "version": "3.12.7"
  }
 },
 "nbformat": 4,
 "nbformat_minor": 5
}
